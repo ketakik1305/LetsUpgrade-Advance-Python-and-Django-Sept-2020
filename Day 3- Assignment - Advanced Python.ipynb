{
 "cells": [
  {
   "cell_type": "markdown",
   "metadata": {},
   "source": [
    "QI. list3 = [\"192.168.10.9\", \"192.168.10.4\", \"192.168.10.11\", \"192.168.10.35\"]\n",
    "\n",
    "Output\n",
    "['192.168.10.4', '192.168.10.9', '192.168.10.11', '192.168.10.35']"
   ]
  },
  {
   "cell_type": "code",
   "execution_count": 17,
   "metadata": {},
   "outputs": [
    {
     "data": {
      "text/plain": [
       "['192.168.10.4', '192.168.10.9', '192.168.10.11', '192.168.10.35']"
      ]
     },
     "execution_count": 17,
     "metadata": {},
     "output_type": "execute_result"
    }
   ],
   "source": [
    "list3 = [\"192.168.10.9\", \"192.168.10.4\", \"192.168.10.11\", \"192.168.10.35\"]\n",
    "\n",
    "sorted(list3, key=lambda x: int(x.rsplit('.', 1)[1]))"
   ]
  },
  {
   "cell_type": "code",
   "execution_count": null,
   "metadata": {},
   "outputs": [],
   "source": []
  },
  {
   "cell_type": "markdown",
   "metadata": {},
   "source": [
    "Q2"
   ]
  },
  {
   "cell_type": "code",
   "execution_count": 25,
   "metadata": {},
   "outputs": [
    {
     "name": "stdout",
     "output_type": "stream",
     "text": [
      "initial list [1, 2, 3, 0, 2, 3, 0, 1, 24, 0, 1, 3, 1, 0, 1, 21, 0, 1, 2, 0, 45]\n",
      "final list [1, 1, 1, 1, 1, 1, 0, 0, 0, 0, 0, 0, 2, 2, 2, 3, 3, 3, 24, 21, 45]\n"
     ]
    }
   ],
   "source": [
    "from collections import Counter \n",
    "from itertools import repeat, chain \n",
    "  \n",
    "list1 = [1,2,3,0,2,3,0,1,24,0,1,3,1,0,1,21,0,1,2,0,45] \n",
    "  \n",
    "# printing initial ini_list \n",
    "print (\"initial list\", str(list1)) \n",
    "  \n",
    "# sorting on bais of frequency of elements \n",
    "result = list(chain.from_iterable(repeat(i, c) \n",
    "         for i, c in Counter(list1).most_common())) \n",
    "  \n",
    "# printing final result \n",
    "print(\"final list\", str(result))"
   ]
  },
  {
   "cell_type": "code",
   "execution_count": null,
   "metadata": {},
   "outputs": [],
   "source": []
  }
 ],
 "metadata": {
  "kernelspec": {
   "display_name": "Python 3",
   "language": "python",
   "name": "python3"
  },
  "language_info": {
   "codemirror_mode": {
    "name": "ipython",
    "version": 3
   },
   "file_extension": ".py",
   "mimetype": "text/x-python",
   "name": "python",
   "nbconvert_exporter": "python",
   "pygments_lexer": "ipython3",
   "version": "3.7.6"
  }
 },
 "nbformat": 4,
 "nbformat_minor": 4
}
