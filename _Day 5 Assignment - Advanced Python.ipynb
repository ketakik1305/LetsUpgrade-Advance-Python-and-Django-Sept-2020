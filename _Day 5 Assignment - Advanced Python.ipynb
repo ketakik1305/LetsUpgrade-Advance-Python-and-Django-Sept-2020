{
 "cells": [
  {
   "cell_type": "markdown",
   "metadata": {},
   "source": [
    "Q.1 Sample Input\n",
    "Nick Fury : Tony Stark, Maria Hill, Norman Osborn\n",
    "Hulk : Tony Stark, HawkEye, Rogers\n",
    "Rogers : Thor,\n",
    "Tony Stark: Pepper Potts, Nick Fury\n",
    "Agent 13 : Agent-X, Nick Fury, Hitler\n",
    "Thor: HawkEye, BlackWidow\n",
    "BlackWidow:Hawkeye\n",
    "Maria Hill : Hulk, Rogers, Nick Fury\n",
    "    \n",
    "    Agent-X : Agent 13, Rogers\n",
    "Norman Osborn: Tony Stark, Thor\n",
    "Sample Output\n",
    "Agent 13, Agent-X, Hitler"
   ]
  },
  {
   "cell_type": "code",
   "execution_count": 24,
   "metadata": {},
   "outputs": [
    {
     "name": "stdout",
     "output_type": "stream",
     "text": [
      "{'Nick Fury': 'Tony Stark,Maria Hill,Norman Osborn', 'Hulk': 'Tony Stark,HawkEye,Rogers', 'Rogers': 'Thor', 'Tony Stark': 'Pepper Potts,Nick Fury', 'Agent-13': 'Agent-X,Nick Fury,Hitler', 'Thor': 'HawkEye,Black Widow', 'Black Widow': 'HawkEye', 'Maria Hill': 'Hulk,Rogers,Nick Fury', 'Agent-X': 'Agent-13,Rogers', 'Norman Osborn': 'Tony Stark,Thor'} \n",
      "\n",
      "{'Agent-13', 'Agent-X', 'Hitler'}\n"
     ]
    }
   ],
   "source": [
    "input={'Nick Fury': 'Tony Stark,Maria Hill,Norman Osborn','Hulk':'Tony Stark,HawkEye,Rogers', 'Rogers':'Thor','Tony Stark':'Pepper Potts,Nick Fury','Agent-13':'Agent-X,Nick Fury,Hitler','Thor':'HawkEye,Black Widow','Black Widow':'HawkEye','Maria Hill':\"Hulk,Rogers,Nick Fury\",'Agent-X':\"Agent-13,Rogers\", 'Norman Osborn': \"Tony Stark,Thor\"}\n",
    "print(input, '\\n')\n",
    "\n",
    "value=[]\n",
    "\n",
    "\n",
    "l1=list(input.keys())\n",
    "l2=list(input.values())\n",
    "l3=set(l1)\n",
    "def splitvalues(l):\n",
    "    return l.split(',')\n",
    "\n",
    "for each in l2:\n",
    "    value.extend(splitvalues(each))\n",
    "\n",
    "\n",
    "\n",
    "\n",
    "\n",
    "l1.extend(value)\n",
    "\n",
    "s1=set(l1)\n",
    "v111=[]\n",
    "keys=['Nick Fury']\n",
    "\n",
    "def findhydra(k):\n",
    "    v111.extend(splitvalues(d1[k]))\n",
    "    \n",
    "        \n",
    "for k,v in d1.items():\n",
    "    if k in keys:\n",
    "        keys.extend(splitvalues(d1[k]))\n",
    "kl=set(keys)\n",
    "y=l3.intersection(kl)\n",
    "\n",
    "for i in y:\n",
    "    findhydra(i)\n",
    "\n",
    "v222=set(v111)\n",
    "print(s1-v222)\n",
    "\n",
    "\n"
   ]
  }
 ],
 "metadata": {
  "kernelspec": {
   "display_name": "Python 3",
   "language": "python",
   "name": "python3"
  },
  "language_info": {
   "codemirror_mode": {
    "name": "ipython",
    "version": 3
   },
   "file_extension": ".py",
   "mimetype": "text/x-python",
   "name": "python",
   "nbconvert_exporter": "python",
   "pygments_lexer": "ipython3",
   "version": "3.7.6"
  }
 },
 "nbformat": 4,
 "nbformat_minor": 4
}
