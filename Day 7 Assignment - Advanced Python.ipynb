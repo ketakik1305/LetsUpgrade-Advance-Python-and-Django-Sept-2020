{
 "cells": [
  {
   "cell_type": "markdown",
   "metadata": {},
   "source": [
    "Q.1 list1=[10,20,30,40,50]\n",
    "\n",
    "list2=[5,15,25,35,45,60]\n",
    "\n",
    "Merge the two lists and give output as follows with new list\n",
    "\n",
    "Output:-\n",
    "list3=[5,10,15,20,25,30,35,40,45,50,60]"
   ]
  },
  {
   "cell_type": "code",
   "execution_count": 3,
   "metadata": {},
   "outputs": [
    {
     "name": "stdout",
     "output_type": "stream",
     "text": [
      "[5, 10, 15, 20, 25, 30, 35, 40, 45, 50, 60]\n"
     ]
    }
   ],
   "source": [
    "def MergeLst(l1, l2): \n",
    "    final_list = l1 + l2 \n",
    "    final_list.sort() \n",
    "    return(final_list) \n",
    "  \n",
    "# Driver Code \n",
    "l1 = [10,20,30,40,50] \n",
    "l2 = [5,15,25,35,45,60] \n",
    "print(MergeLst(l1, l2)) "
   ]
  }
 ],
 "metadata": {
  "kernelspec": {
   "display_name": "Python 3",
   "language": "python",
   "name": "python3"
  },
  "language_info": {
   "codemirror_mode": {
    "name": "ipython",
    "version": 3
   },
   "file_extension": ".py",
   "mimetype": "text/x-python",
   "name": "python",
   "nbconvert_exporter": "python",
   "pygments_lexer": "ipython3",
   "version": "3.7.6"
  }
 },
 "nbformat": 4,
 "nbformat_minor": 4
}
