{
 "cells": [
  {
   "cell_type": "markdown",
   "metadata": {},
   "source": [
    "Q.1 Create a program to generate a password\n",
    "length 12\n",
    "6 random == \"A-Z a-z\"\n",
    "4 --> digits\n",
    "2 -- > special characters"
   ]
  },
  {
   "cell_type": "code",
   "execution_count": 20,
   "metadata": {},
   "outputs": [
    {
     "name": "stdout",
     "output_type": "stream",
     "text": [
      "Your Random String-1: ig3m?u4P3_3x\n"
     ]
    }
   ],
   "source": [
    "def get_random_string(uchars = 6, dchars = 4, schars = 2):\n",
    "    # Generates a 12 characters long random string\n",
    "    # with 6 letters, 4 digits and 2 special characters\n",
    " \n",
    "    str_uchars, str_lchars, str_dchars, str_schars = '', '', '', ''\n",
    " \n",
    "    for i in range(uchars):\n",
    "        str_uchars += random.SystemRandom().choice(string.ascii_letters)\n",
    " \n",
    "    for i in range(dchars):\n",
    "        str_uchars += random.SystemRandom().choice(string.digits)\n",
    " \n",
    "    for i in range(schars):\n",
    "        str_uchars += random.SystemRandom().choice(string.punctuation)\n",
    " \n",
    "    random_str = str_uchars + str_dchars + str_schars\n",
    "    random_str = ''.join(random.sample(random_str, len(random_str)))\n",
    "    return random_str\n",
    "\n",
    "\n",
    " \n",
    "# generates 6 letters, 4 digits and 2 punctuation\n",
    "print('Your Random String-1:', get_random_string(6, 4, 2))\n",
    "\n"
   ]
  },
  {
   "cell_type": "markdown",
   "metadata": {},
   "source": [
    "The above output contains -\n",
    "6 characters as - i, g, m, u, P, x\n",
    "4 digits as - 3, 4, 3, 3\n",
    "2 special characters as - ?and _"
   ]
  }
 ],
 "metadata": {
  "kernelspec": {
   "display_name": "Python 3",
   "language": "python",
   "name": "python3"
  },
  "language_info": {
   "codemirror_mode": {
    "name": "ipython",
    "version": 3
   },
   "file_extension": ".py",
   "mimetype": "text/x-python",
   "name": "python",
   "nbconvert_exporter": "python",
   "pygments_lexer": "ipython3",
   "version": "3.7.6"
  }
 },
 "nbformat": 4,
 "nbformat_minor": 4
}
